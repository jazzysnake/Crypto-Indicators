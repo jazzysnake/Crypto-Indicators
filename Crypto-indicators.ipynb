{
 "cells": [
  {
   "cell_type": "code",
   "execution_count": null,
   "id": "cc56c76d",
   "metadata": {},
   "outputs": [],
   "source": [
    "import pandas as pd\n",
    "import plotly.express as px\n",
    "# import bamboolib as bam\n",
    "import requests as req\n",
    "import yfinance as yf\n",
    "from yahoofinancials import YahooFinancials\n",
    "import json\n",
    "import os as os\n",
    "from plotly.subplots import make_subplots\n",
    "import plotly.graph_objects as go\n",
    "import numpy as np"
   ]
  },
  {
   "cell_type": "code",
   "execution_count": null,
   "id": "b90dfc86",
   "metadata": {},
   "outputs": [],
   "source": [
    "res = req.get(\"https://api.alternative.me/fng/?limit=0&format=csv\")\n",
    "btcusd_all_time_df = pd.read_json(\"https://api.coingecko.com/api/v3/coins/bitcoin/ohlc?vs_currency=usd&days=max\")\n",
    "os.system(\"rm data/fng.json\")\n",
    "os.system(\"rm data/fng.csv\")\n",
    "resfile = open(\"data/fng.json\",\"w\")\n",
    "resfile.writelines(str(res.text))"
   ]
  },
  {
   "cell_type": "code",
   "execution_count": null,
   "id": "7369d08c",
   "metadata": {},
   "outputs": [],
   "source": [
    "os.system(\"sed -i '1,3d' data/fng.json\")\n",
    "for i in range(0,5):\n",
    "    os.system(\"sed -i '$d' data/fng.json\")\n",
    "os.system(\"mv data/fng.json data/fng.csv\")"
   ]
  },
  {
   "cell_type": "code",
   "execution_count": null,
   "id": "a132a361",
   "metadata": {},
   "outputs": [],
   "source": [
    "fng = pd.read_csv(\"data/fng.csv\")\n",
    "# Column order messed up, renaming to fix it\n",
    "fng = fng.rename(columns={'fng_value': 'date', 'fng_classification': 'value', 'date': 'fng_class'})\n",
    "# Step: Change data type of date to Datetime\n",
    "fng['date'] = pd.to_datetime(fng['date'], format='%d-%m-%Y')\n",
    "fng[\"sma\"]=fng[\"value\"].rolling(30).mean()"
   ]
  },
  {
   "cell_type": "code",
   "execution_count": null,
   "id": "6d761e2e",
   "metadata": {},
   "outputs": [],
   "source": [
    "fng = fng.sort_values(by=['date'], ascending=[True])\n",
    "btcusd = yf.download('BTC-USD', \n",
    "                     period=\"d\",\n",
    "                      start=str(fng[\"date\"].iloc[0]).split(\" \")[0], \n",
    "                      end=str(fng[\"date\"].iloc[len(fng)-1]).split(\" \")[0], \n",
    "                      progress=False)\n",
    "# btcusd= btcusd.set_index(\"Date\")\n",
    "fng = fng.set_index(\"date\")\n",
    "fng = pd.concat([btcusd, fng], axis=1, join=\"inner\")\n",
    "fng = fng.reset_index()\n",
    "# Step: Rename column\n",
    "fng = fng.rename(columns={'index': 'date'})"
   ]
  },
  {
   "cell_type": "code",
   "execution_count": null,
   "id": "338184fd",
   "metadata": {},
   "outputs": [],
   "source": [
    "fig = px.line(fng.sort_values(by=['date'], ascending=[True]), x='date', y='Close')\n",
    "fig.update_yaxes(type='log', tickformat='.1e')\n",
    "fig"
   ]
  },
  {
   "cell_type": "code",
   "execution_count": null,
   "id": "45b65e6e",
   "metadata": {},
   "outputs": [],
   "source": [
    "fig = px.line(fng.sort_values(by=['date'], ascending=[True]).dropna(subset=['sma']), x='date', y='sma')\n",
    "fig"
   ]
  },
  {
   "cell_type": "code",
   "execution_count": null,
   "id": "605ca126",
   "metadata": {},
   "outputs": [],
   "source": [
    "fig = make_subplots(specs=[[{\"secondary_y\": True}]])\n",
    "fig.add_trace(go.Line(x=fng['date'],y=fng['sma'],name=\"Fear and Greed sma\"),secondary_y=False)\n",
    "fig.add_trace(go.Line(x=fng['date'],y=fng['Close'],name=\"Daily Close\"),secondary_y=True)\n",
    "fig.update_annotations()\n",
    "fig.show()"
   ]
  },
  {
   "cell_type": "code",
   "execution_count": null,
   "id": "a6292a32",
   "metadata": {},
   "outputs": [],
   "source": [
    "risk = fng.copy() \n",
    "risk[\"Change\"]= risk['Close'].pct_change(periods=1)\n",
    "#risk[\"rsi\"]=risk[\"Change\"].rolling(15).mean()\n",
    "risk[\"Change-direction\"] = risk[\"Change\"].apply(lambda x: \"up\" if x >=0 else \"down\")\n",
    "risk[\"Change-abs\"]= risk['Change'].abs()\n",
    "# Step: Pivot dataframe from long to wide format using the variable column 'Change-direction' and the value column 'Change'\n",
    "risk = risk.set_index(['date', 'Open', 'High', 'Low', 'Close', 'Adj Close', 'Volume', 'value', 'fng_class', 'sma','Change', 'Change-direction'])['Change-abs'].unstack(-1).reset_index()\n",
    "risk.columns.name = ''\n",
    "risk= risk.fillna(0)\n",
    "risk['down']=risk['down'].rolling(15).mean()\n",
    "risk['up']=risk['up'].rolling(15).mean()\n",
    "risk['RSI']=100-(100/(1+(risk['up']/risk['down'])))"
   ]
  },
  {
   "cell_type": "code",
   "execution_count": null,
   "id": "28631d43",
   "metadata": {},
   "outputs": [],
   "source": [
    "risk[\"RSI-sma\"]= risk[\"RSI\"].rolling(60).mean()\n",
    "fig = make_subplots(specs=[[{\"secondary_y\": True}]])\n",
    "fig.add_trace(go.Line(x=risk['date'],y=risk['RSI-sma'],name=\"Sma of RSI\"),secondary_y=False)\n",
    "fig.add_trace(go.Line(x=risk['date'],y=risk['Close'],name=\"Daily close\"),secondary_y=True)\n",
    "fig.show()"
   ]
  },
  {
   "cell_type": "code",
   "execution_count": null,
   "id": "68095cb6",
   "metadata": {},
   "outputs": [],
   "source": [
    "risk[\"risk\"]=(risk[\"RSI-sma\"]+risk[\"sma\"])/2\n",
    "risk\n",
    "fig = make_subplots(specs=[[{\"secondary_y\": True}]])\n",
    "fig.add_trace(go.Line(x=risk['date'],y=risk['risk'],name=\"Risk\"),secondary_y=False)\n",
    "fig.add_trace(go.Line(x=risk['date'],y=risk['Close'],name=\"Daily close\"),secondary_y=True)\n",
    "fig.update_yaxes(type=\"log\",secondary_y=True)\n",
    "fig.show()"
   ]
  },
  {
   "cell_type": "code",
   "execution_count": null,
   "id": "832cb042-467f-4389-a485-e3169917e3b1",
   "metadata": {},
   "outputs": [],
   "source": [
    "btcusd_all_time = btcusd_all_time_df.copy()\n",
    "btcusd_all_time.columns = [str(column) for column in btcusd_all_time.columns]\n",
    "btcusd_all_time = btcusd_all_time.rename(columns={'0':'date','1':'open','2':'high','3':'low','4':'close'})\n",
    "btcusd_all_time['date'] = pd.to_datetime(btcusd_all_time['date'],unit='ms')\n",
    "max_price = btcusd_all_time['close'].max()\n",
    "btcusd_all_time"
   ]
  },
  {
   "cell_type": "code",
   "execution_count": null,
   "id": "2b59ab74-a76f-4c6c-94f3-b6c7cd9020d7",
   "metadata": {},
   "outputs": [],
   "source": [
    "fit = np.polyfit(btcusd_all_time['date'].view(int),btcusd_all_time['close']/max_price,deg=4)\n",
    "btcusd_all_time['fit']=np.polyval(fit,btcusd_all_time['date'].view(int))*max_price\n",
    "btcusd_all_time\n",
    "fig = px.line(btcusd_all_time.sort_values(by=['date'], ascending=[True]), x='date', y=['fit', 'close'])\n",
    "fig.update_yaxes(type='log')\n",
    "fig"
   ]
  },
  {
   "cell_type": "code",
   "execution_count": null,
   "id": "e7a1ae46-c653-4772-a90c-d0d8510993c5",
   "metadata": {},
   "outputs": [],
   "source": [
    "df = btcusd_all_time.copy()\n",
    "future_time = pd.date_range(start='2022-06-08', periods=730,freq='D')\n",
    "predictions = np.polyval(fit, future_time.view(int))*max_price\n",
    "df_prediction = pd.DataFrame({'date':future_time,'predicted_fit':predictions})\n",
    "df = pd.merge(df,df_prediction,on='date',how='outer')\n",
    "fig = px.line(df.sort_values(by=['date'], ascending=[True]), x='date', y=['fit', 'close','predicted_fit'])\n",
    "fig.update_yaxes(type='log')\n",
    "fig"
   ]
  }
 ],
 "metadata": {
  "kernelspec": {
   "display_name": "Python 3 (ipykernel)",
   "language": "python",
   "name": "python3"
  },
  "language_info": {
   "codemirror_mode": {
    "name": "ipython",
    "version": 3
   },
   "file_extension": ".py",
   "mimetype": "text/x-python",
   "name": "python",
   "nbconvert_exporter": "python",
   "pygments_lexer": "ipython3",
   "version": "3.9.7"
  }
 },
 "nbformat": 4,
 "nbformat_minor": 5
}
